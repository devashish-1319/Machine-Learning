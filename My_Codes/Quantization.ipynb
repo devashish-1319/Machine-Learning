{
 "cells": [
  {
   "cell_type": "code",
   "execution_count": 2,
   "id": "0dc76be0-9251-4123-afcf-62e1dc435841",
   "metadata": {},
   "outputs": [],
   "source": [
    "import tensorflow as tf\n",
    "from tensorflow import keras\n",
    "import matplotlib.pyplot as plt\n",
    "%matplotlib inline\n",
    "import numpy as np"
   ]
  },
  {
   "cell_type": "code",
   "execution_count": 4,
   "id": "ddf46258-737b-4969-8866-26ac3682adef",
   "metadata": {},
   "outputs": [],
   "source": [
    "(X_train, y_train) , (X_test, y_test) = keras.datasets.mnist.load_data()"
   ]
  },
  {
   "cell_type": "code",
   "execution_count": 6,
   "id": "b6cd0ba6-66a2-4098-8ee4-8a5604ea557f",
   "metadata": {},
   "outputs": [
    {
     "data": {
      "text/plain": [
       "60000"
      ]
     },
     "execution_count": 6,
     "metadata": {},
     "output_type": "execute_result"
    }
   ],
   "source": [
    "len(X_train)"
   ]
  },
  {
   "cell_type": "code",
   "execution_count": 8,
   "id": "94f28556-caa8-42f1-b4f5-ff2b3a6453de",
   "metadata": {},
   "outputs": [
    {
     "data": {
      "text/plain": [
       "10000"
      ]
     },
     "execution_count": 8,
     "metadata": {},
     "output_type": "execute_result"
    }
   ],
   "source": [
    "len(X_test)"
   ]
  },
  {
   "cell_type": "code",
   "execution_count": 10,
   "id": "724cf0ce-b4dd-468d-a04a-e8db98e2eb7a",
   "metadata": {},
   "outputs": [],
   "source": [
    "X_train = X_train / 255\n",
    "X_test = X_test / 255"
   ]
  },
  {
   "cell_type": "code",
   "execution_count": 12,
   "id": "de5f186f-4b00-4b5b-b4a4-8589a8159b71",
   "metadata": {},
   "outputs": [],
   "source": [
    "X_train_flattened = X_train.reshape(len(X_train), 28*28)\n",
    "X_test_flattened = X_test.reshape(len(X_test), 28*28)"
   ]
  },
  {
   "cell_type": "code",
   "execution_count": 14,
   "id": "fc48a05e-ab4d-42dc-8386-6c643d953913",
   "metadata": {},
   "outputs": [
    {
     "data": {
      "text/plain": [
       "(60000, 784)"
      ]
     },
     "execution_count": 14,
     "metadata": {},
     "output_type": "execute_result"
    }
   ],
   "source": [
    "X_train_flattened.shape"
   ]
  },
  {
   "cell_type": "code",
   "execution_count": 16,
   "id": "df054ad7-f260-4a4c-90af-f3a0bd4f283a",
   "metadata": {},
   "outputs": [
    {
     "name": "stderr",
     "output_type": "stream",
     "text": [
      "/opt/anaconda3/lib/python3.12/site-packages/keras/src/layers/reshaping/flatten.py:37: UserWarning: Do not pass an `input_shape`/`input_dim` argument to a layer. When using Sequential models, prefer using an `Input(shape)` object as the first layer in the model instead.\n",
      "  super().__init__(**kwargs)\n"
     ]
    },
    {
     "name": "stdout",
     "output_type": "stream",
     "text": [
      "Epoch 1/5\n",
      "\u001b[1m1875/1875\u001b[0m \u001b[32m━━━━━━━━━━━━━━━━━━━━\u001b[0m\u001b[37m\u001b[0m \u001b[1m2s\u001b[0m 885us/step - accuracy: 0.8721 - loss: 0.4535\n",
      "Epoch 2/5\n",
      "\u001b[1m1875/1875\u001b[0m \u001b[32m━━━━━━━━━━━━━━━━━━━━\u001b[0m\u001b[37m\u001b[0m \u001b[1m2s\u001b[0m 826us/step - accuracy: 0.9617 - loss: 0.1291\n",
      "Epoch 3/5\n",
      "\u001b[1m1875/1875\u001b[0m \u001b[32m━━━━━━━━━━━━━━━━━━━━\u001b[0m\u001b[37m\u001b[0m \u001b[1m1s\u001b[0m 770us/step - accuracy: 0.9740 - loss: 0.0855\n",
      "Epoch 4/5\n",
      "\u001b[1m1875/1875\u001b[0m \u001b[32m━━━━━━━━━━━━━━━━━━━━\u001b[0m\u001b[37m\u001b[0m \u001b[1m1s\u001b[0m 724us/step - accuracy: 0.9804 - loss: 0.0627\n",
      "Epoch 5/5\n",
      "\u001b[1m1875/1875\u001b[0m \u001b[32m━━━━━━━━━━━━━━━━━━━━\u001b[0m\u001b[37m\u001b[0m \u001b[1m2s\u001b[0m 821us/step - accuracy: 0.9865 - loss: 0.0474\n"
     ]
    },
    {
     "data": {
      "text/plain": [
       "<keras.src.callbacks.history.History at 0x31d398b00>"
      ]
     },
     "execution_count": 16,
     "metadata": {},
     "output_type": "execute_result"
    }
   ],
   "source": [
    "model = keras.Sequential([\n",
    "    keras.layers.Flatten(input_shape=(28, 28)),\n",
    "    keras.layers.Dense(100, activation='relu'),\n",
    "    keras.layers.Dense(10, activation='sigmoid')\n",
    "])\n",
    "\n",
    "model.compile(optimizer='adam',\n",
    "              loss='sparse_categorical_crossentropy',\n",
    "              metrics=['accuracy'])\n",
    "\n",
    "model.fit(X_train, y_train, epochs=5)"
   ]
  },
  {
   "cell_type": "code",
   "execution_count": 18,
   "id": "120e87f6-a563-4875-88d7-a0dea746a52a",
   "metadata": {},
   "outputs": [
    {
     "name": "stdout",
     "output_type": "stream",
     "text": [
      "\u001b[1m313/313\u001b[0m \u001b[32m━━━━━━━━━━━━━━━━━━━━\u001b[0m\u001b[37m\u001b[0m \u001b[1m0s\u001b[0m 430us/step - accuracy: 0.9743 - loss: 0.0892\n"
     ]
    },
    {
     "data": {
      "text/plain": [
       "[0.07665126025676727, 0.9771000146865845]"
      ]
     },
     "execution_count": 18,
     "metadata": {},
     "output_type": "execute_result"
    }
   ],
   "source": [
    "model.evaluate(X_test,y_test)"
   ]
  },
  {
   "cell_type": "code",
   "execution_count": 24,
   "id": "2c8beb1c-46ec-4f42-9aa7-fa09851be9da",
   "metadata": {},
   "outputs": [
    {
     "name": "stdout",
     "output_type": "stream",
     "text": [
      "INFO:tensorflow:Assets written to: /Users/devadeva/Desktop/MNIT/Machine Learning/My_Codes/Saved Models/Quantization/assets\n"
     ]
    },
    {
     "name": "stderr",
     "output_type": "stream",
     "text": [
      "INFO:tensorflow:Assets written to: /Users/devadeva/Desktop/MNIT/Machine Learning/My_Codes/Saved Models/Quantization/assets\n"
     ]
    },
    {
     "name": "stdout",
     "output_type": "stream",
     "text": [
      "Saved artifact at '/Users/devadeva/Desktop/MNIT/Machine Learning/My_Codes/Saved Models/Quantization'. The following endpoints are available:\n",
      "\n",
      "* Endpoint 'serve'\n",
      "  args_0 (POSITIONAL_ONLY): TensorSpec(shape=(None, 28, 28), dtype=tf.float32, name='keras_tensor')\n",
      "Output Type:\n",
      "  TensorSpec(shape=(None, 10), dtype=tf.float32, name=None)\n",
      "Captures:\n",
      "  13248552336: TensorSpec(shape=(), dtype=tf.resource, name=None)\n",
      "  13248553296: TensorSpec(shape=(), dtype=tf.resource, name=None)\n",
      "  13248552720: TensorSpec(shape=(), dtype=tf.resource, name=None)\n",
      "  13248553104: TensorSpec(shape=(), dtype=tf.resource, name=None)\n"
     ]
    }
   ],
   "source": [
    "model.export(\"/Users/devadeva/Desktop/MNIT/Machine Learning/My_Codes/Saved Models/Quantization\")"
   ]
  },
  {
   "cell_type": "code",
   "execution_count": 26,
   "id": "bfb6d63f-041c-4309-a316-c59869db4b90",
   "metadata": {},
   "outputs": [],
   "source": [
    "model.save(\"/Users/devadeva/Desktop/MNIT/Machine Learning/My_Codes/Saved Models/DigitClassification.keras\")"
   ]
  },
  {
   "cell_type": "code",
   "execution_count": 28,
   "id": "6b22ccc8-91e9-463b-ac0f-76c4f25375d1",
   "metadata": {},
   "outputs": [
    {
     "name": "stderr",
     "output_type": "stream",
     "text": [
      "WARNING: All log messages before absl::InitializeLog() is called are written to STDERR\n",
      "W0000 00:00:1749195036.591309 6384828 tf_tfl_flatbuffer_helpers.cc:365] Ignored output_format.\n",
      "W0000 00:00:1749195036.592159 6384828 tf_tfl_flatbuffer_helpers.cc:368] Ignored drop_control_dependency.\n",
      "2025-06-06 13:00:36.595318: I tensorflow/cc/saved_model/reader.cc:83] Reading SavedModel from: /Users/devadeva/Desktop/MNIT/Machine Learning/My_Codes/Saved Models/Quantization\n",
      "2025-06-06 13:00:36.595542: I tensorflow/cc/saved_model/reader.cc:52] Reading meta graph with tags { serve }\n",
      "2025-06-06 13:00:36.595546: I tensorflow/cc/saved_model/reader.cc:147] Reading SavedModel debug info (if present) from: /Users/devadeva/Desktop/MNIT/Machine Learning/My_Codes/Saved Models/Quantization\n",
      "I0000 00:00:1749195036.599979 6384828 mlir_graph_optimization_pass.cc:425] MLIR V1 optimization pass is not enabled\n",
      "2025-06-06 13:00:36.600573: I tensorflow/cc/saved_model/loader.cc:236] Restoring SavedModel bundle.\n",
      "2025-06-06 13:00:36.647884: I tensorflow/cc/saved_model/loader.cc:220] Running initialization op on SavedModel bundle at path: /Users/devadeva/Desktop/MNIT/Machine Learning/My_Codes/Saved Models/Quantization\n",
      "2025-06-06 13:00:36.651126: I tensorflow/cc/saved_model/loader.cc:471] SavedModel load for tags { serve }; Status: success: OK. Took 55854 microseconds.\n",
      "2025-06-06 13:00:36.677392: I tensorflow/compiler/mlir/tensorflow/utils/dump_mlir_util.cc:269] disabling MLIR crash reproducer, set env var `MLIR_CRASH_REPRODUCER_DIRECTORY` to enable.\n"
     ]
    }
   ],
   "source": [
    "#Post training quantization\n",
    "converter = tf.lite.TFLiteConverter.from_saved_model(\"/Users/devadeva/Desktop/MNIT/Machine Learning/My_Codes/Saved Models/Quantization\")\n",
    "tflite_model = converter.convert()"
   ]
  },
  {
   "cell_type": "code",
   "execution_count": 32,
   "id": "74922dda-66eb-495a-b6d3-49cf5b795c75",
   "metadata": {},
   "outputs": [
    {
     "name": "stderr",
     "output_type": "stream",
     "text": [
      "W0000 00:00:1749195142.244739 6384828 tf_tfl_flatbuffer_helpers.cc:365] Ignored output_format.\n",
      "W0000 00:00:1749195142.244765 6384828 tf_tfl_flatbuffer_helpers.cc:368] Ignored drop_control_dependency.\n",
      "2025-06-06 13:02:22.244931: I tensorflow/cc/saved_model/reader.cc:83] Reading SavedModel from: /Users/devadeva/Desktop/MNIT/Machine Learning/My_Codes/Saved Models/Quantization\n",
      "2025-06-06 13:02:22.245131: I tensorflow/cc/saved_model/reader.cc:52] Reading meta graph with tags { serve }\n",
      "2025-06-06 13:02:22.245136: I tensorflow/cc/saved_model/reader.cc:147] Reading SavedModel debug info (if present) from: /Users/devadeva/Desktop/MNIT/Machine Learning/My_Codes/Saved Models/Quantization\n",
      "2025-06-06 13:02:22.246752: I tensorflow/cc/saved_model/loader.cc:236] Restoring SavedModel bundle.\n",
      "2025-06-06 13:02:22.256073: I tensorflow/cc/saved_model/loader.cc:220] Running initialization op on SavedModel bundle at path: /Users/devadeva/Desktop/MNIT/Machine Learning/My_Codes/Saved Models/Quantization\n",
      "2025-06-06 13:02:22.259110: I tensorflow/cc/saved_model/loader.cc:471] SavedModel load for tags { serve }; Status: success: OK. Took 14186 microseconds.\n"
     ]
    }
   ],
   "source": [
    "converter = tf.lite.TFLiteConverter.from_saved_model(\"/Users/devadeva/Desktop/MNIT/Machine Learning/My_Codes/Saved Models/Quantization\")\n",
    "converter.optimizations = [tf.lite.Optimize.DEFAULT]\n",
    "tflite_quant_model = converter.convert()"
   ]
  },
  {
   "cell_type": "code",
   "execution_count": 34,
   "id": "7391b1bf-a64a-4194-b648-35c91382d2b2",
   "metadata": {},
   "outputs": [
    {
     "data": {
      "text/plain": [
       "319960"
      ]
     },
     "execution_count": 34,
     "metadata": {},
     "output_type": "execute_result"
    }
   ],
   "source": [
    "len(tflite_model)"
   ]
  },
  {
   "cell_type": "code",
   "execution_count": 36,
   "id": "cc5ab237-dfa9-4fd6-b1dc-992b27d4b394",
   "metadata": {},
   "outputs": [
    {
     "data": {
      "text/plain": [
       "86016"
      ]
     },
     "execution_count": 36,
     "metadata": {},
     "output_type": "execute_result"
    }
   ],
   "source": [
    "len(tflite_quant_model)"
   ]
  },
  {
   "cell_type": "code",
   "execution_count": 38,
   "id": "f8620caa-55b5-4286-b739-779ffa741d07",
   "metadata": {},
   "outputs": [],
   "source": [
    "with open(\"tflite_model.tflite\", \"wb\") as f:\n",
    "    f.write(tflite_model)"
   ]
  },
  {
   "cell_type": "code",
   "execution_count": 40,
   "id": "a75dfebd-9076-471f-91b4-9e7895b02688",
   "metadata": {},
   "outputs": [],
   "source": [
    "with open(\"tflite_quant_model.tflite\", \"wb\") as f:\n",
    "    f.write(tflite_quant_model)"
   ]
  },
  {
   "cell_type": "code",
   "execution_count": 44,
   "id": "dbc58a27-d50b-4530-8f1d-90617eeba26f",
   "metadata": {},
   "outputs": [
    {
     "name": "stdout",
     "output_type": "stream",
     "text": [
      "Collecting tensorflow_model_optimization\n",
      "  Downloading tensorflow_model_optimization-0.8.0-py2.py3-none-any.whl.metadata (904 bytes)\n",
      "Collecting absl-py~=1.2 (from tensorflow_model_optimization)\n",
      "  Downloading absl_py-1.4.0-py3-none-any.whl.metadata (2.3 kB)\n",
      "Collecting dm-tree~=0.1.1 (from tensorflow_model_optimization)\n",
      "  Downloading dm_tree-0.1.9-cp312-cp312-macosx_10_13_universal2.whl.metadata (2.4 kB)\n",
      "Requirement already satisfied: numpy~=1.23 in /opt/anaconda3/lib/python3.12/site-packages (from tensorflow_model_optimization) (1.26.4)\n",
      "Requirement already satisfied: six~=1.14 in /opt/anaconda3/lib/python3.12/site-packages (from tensorflow_model_optimization) (1.17.0)\n",
      "Requirement already satisfied: attrs>=18.2.0 in /opt/anaconda3/lib/python3.12/site-packages (from dm-tree~=0.1.1->tensorflow_model_optimization) (23.1.0)\n",
      "Requirement already satisfied: wrapt>=1.11.2 in /opt/anaconda3/lib/python3.12/site-packages (from dm-tree~=0.1.1->tensorflow_model_optimization) (1.17.2)\n",
      "Downloading tensorflow_model_optimization-0.8.0-py2.py3-none-any.whl (242 kB)\n",
      "Downloading absl_py-1.4.0-py3-none-any.whl (126 kB)\n",
      "Downloading dm_tree-0.1.9-cp312-cp312-macosx_10_13_universal2.whl (175 kB)\n",
      "Installing collected packages: absl-py, dm-tree, tensorflow_model_optimization\n",
      "  Attempting uninstall: absl-py\n",
      "    Found existing installation: absl-py 2.3.0\n",
      "    Uninstalling absl-py-2.3.0:\n",
      "      Successfully uninstalled absl-py-2.3.0\n",
      "Successfully installed absl-py-1.4.0 dm-tree-0.1.9 tensorflow_model_optimization-0.8.0\n"
     ]
    }
   ],
   "source": [
    "!pip install tensorflow_model_optimization"
   ]
  },
  {
   "cell_type": "code",
   "execution_count": 46,
   "id": "e1db4425-d0f3-462b-b21a-02e011a00a64",
   "metadata": {},
   "outputs": [
    {
     "ename": "ValueError",
     "evalue": "`to_quantize` can only either be a keras Sequential or Functional model.",
     "output_type": "error",
     "traceback": [
      "\u001b[0;31m---------------------------------------------------------------------------\u001b[0m",
      "\u001b[0;31mValueError\u001b[0m                                Traceback (most recent call last)",
      "Cell \u001b[0;32mIn[46], line 7\u001b[0m\n\u001b[1;32m      4\u001b[0m quantize_model \u001b[38;5;241m=\u001b[39m tfmot\u001b[38;5;241m.\u001b[39mquantization\u001b[38;5;241m.\u001b[39mkeras\u001b[38;5;241m.\u001b[39mquantize_model\n\u001b[1;32m      6\u001b[0m \u001b[38;5;66;03m# q_aware stands for for quantization aware.\u001b[39;00m\n\u001b[0;32m----> 7\u001b[0m q_aware_model \u001b[38;5;241m=\u001b[39m quantize_model(model)\n\u001b[1;32m      9\u001b[0m \u001b[38;5;66;03m# `quantize_model` requires a recompile.\u001b[39;00m\n\u001b[1;32m     10\u001b[0m q_aware_model\u001b[38;5;241m.\u001b[39mcompile(optimizer\u001b[38;5;241m=\u001b[39m\u001b[38;5;124m'\u001b[39m\u001b[38;5;124madam\u001b[39m\u001b[38;5;124m'\u001b[39m,\n\u001b[1;32m     11\u001b[0m               loss\u001b[38;5;241m=\u001b[39m\u001b[38;5;124m'\u001b[39m\u001b[38;5;124msparse_categorical_crossentropy\u001b[39m\u001b[38;5;124m'\u001b[39m,\n\u001b[1;32m     12\u001b[0m               metrics\u001b[38;5;241m=\u001b[39m[\u001b[38;5;124m'\u001b[39m\u001b[38;5;124maccuracy\u001b[39m\u001b[38;5;124m'\u001b[39m])\n",
      "File \u001b[0;32m/opt/anaconda3/lib/python3.12/site-packages/tensorflow_model_optimization/python/core/quantization/keras/quantize.py:135\u001b[0m, in \u001b[0;36mquantize_model\u001b[0;34m(to_quantize, quantized_layer_name_prefix)\u001b[0m\n\u001b[1;32m    129\u001b[0m   quantized_layer_name_prefix \u001b[38;5;241m=\u001b[39m \u001b[38;5;124m'\u001b[39m\u001b[38;5;124m'\u001b[39m\n\u001b[1;32m    131\u001b[0m \u001b[38;5;28;01mif\u001b[39;00m \u001b[38;5;129;01mnot\u001b[39;00m \u001b[38;5;28misinstance\u001b[39m(to_quantize, keras\u001b[38;5;241m.\u001b[39mSequential) \u001b[38;5;129;01mand\u001b[39;00m \u001b[38;5;129;01mnot\u001b[39;00m (\n\u001b[1;32m    132\u001b[0m     \u001b[38;5;28mhasattr\u001b[39m(to_quantize, \u001b[38;5;124m'\u001b[39m\u001b[38;5;124m_is_graph_network\u001b[39m\u001b[38;5;124m'\u001b[39m)\n\u001b[1;32m    133\u001b[0m     \u001b[38;5;129;01mand\u001b[39;00m to_quantize\u001b[38;5;241m.\u001b[39m_is_graph_network\n\u001b[1;32m    134\u001b[0m ):  \u001b[38;5;66;03m# pylint: disable=protected-access\u001b[39;00m\n\u001b[0;32m--> 135\u001b[0m   \u001b[38;5;28;01mraise\u001b[39;00m \u001b[38;5;167;01mValueError\u001b[39;00m(\n\u001b[1;32m    136\u001b[0m       \u001b[38;5;124m'\u001b[39m\u001b[38;5;124m`to_quantize` can only either be a keras Sequential or \u001b[39m\u001b[38;5;124m'\u001b[39m\n\u001b[1;32m    137\u001b[0m       \u001b[38;5;124m'\u001b[39m\u001b[38;5;124mFunctional model.\u001b[39m\u001b[38;5;124m'\u001b[39m\n\u001b[1;32m    138\u001b[0m   )\n\u001b[1;32m    140\u001b[0m annotated_model \u001b[38;5;241m=\u001b[39m quantize_annotate_model(to_quantize)\n\u001b[1;32m    141\u001b[0m \u001b[38;5;28;01mreturn\u001b[39;00m quantize_apply(\n\u001b[1;32m    142\u001b[0m     annotated_model, quantized_layer_name_prefix\u001b[38;5;241m=\u001b[39mquantized_layer_name_prefix)\n",
      "\u001b[0;31mValueError\u001b[0m: `to_quantize` can only either be a keras Sequential or Functional model."
     ]
    }
   ],
   "source": [
    "#Qunatization aware training \n",
    "import tensorflow_model_optimization as tfmot\n",
    "\n",
    "quantize_model = tfmot.quantization.keras.quantize_model\n",
    "\n",
    "# q_aware stands for for quantization aware.\n",
    "q_aware_model = quantize_model(model)\n",
    "\n",
    "# `quantize_model` requires a recompile.\n",
    "q_aware_model.compile(optimizer='adam',\n",
    "              loss='sparse_categorical_crossentropy',\n",
    "              metrics=['accuracy'])\n",
    "\n",
    "q_aware_model.summary()"
   ]
  },
  {
   "cell_type": "code",
   "execution_count": null,
   "id": "387c3af6-2a6a-40f6-a28a-95f3b4806734",
   "metadata": {},
   "outputs": [],
   "source": []
  }
 ],
 "metadata": {
  "kernelspec": {
   "display_name": "Python [conda env:base] *",
   "language": "python",
   "name": "conda-base-py"
  },
  "language_info": {
   "codemirror_mode": {
    "name": "ipython",
    "version": 3
   },
   "file_extension": ".py",
   "mimetype": "text/x-python",
   "name": "python",
   "nbconvert_exporter": "python",
   "pygments_lexer": "ipython3",
   "version": "3.12.2"
  }
 },
 "nbformat": 4,
 "nbformat_minor": 5
}
